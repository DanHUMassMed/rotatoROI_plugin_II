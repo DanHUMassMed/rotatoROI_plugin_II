{
 "cells": [
  {
   "cell_type": "code",
   "execution_count": 3,
   "metadata": {},
   "outputs": [],
   "source": [
    "import os\n",
    "\n",
    "# Create the initial structure to run the rotatoROI plugin\n",
    "# This plugin requires a specific layout to run successfully\n",
    "def createInitStructure(root_dir_path):\n",
    "    # Define subdirectories\n",
    "    subdirs = [\"channel_split/488\", \"channel_split/561\", \"channel_split/DIC\"]\n",
    "    \n",
    "    # Create root directory if it doesn't exist\n",
    "    if not os.path.exists(root_dir_path):\n",
    "        os.makedirs(root_dir_path)\n",
    "    \n",
    "    # Create subdirectories\n",
    "    for subdir in subdirs:\n",
    "        path = os.path.join(root_dir_path, subdir)\n",
    "        os.makedirs(path, exist_ok=True)\n",
    "\n",
    "\n",
    "rotatoRIO_dir_path=\"/Users/dan/Downloads/061818tiffs_rotatoROI\"\n",
    "createInitStructure(rotatoRIO_dir_path)"
   ]
  },
  {
   "cell_type": "code",
   "execution_count": 5,
   "metadata": {},
   "outputs": [],
   "source": [
    "import os\n",
    "import shutil\n",
    "\n",
    "def get_file(exper_dir_path, suffix):\n",
    "    # List all files in the directory\n",
    "    files = os.listdir(exper_dir_path)\n",
    "    \n",
    "    # Find the file that ends with the given suffix\n",
    "    for file in files:\n",
    "        if file.endswith(suffix):\n",
    "            return os.path.join(exper_dir_path, file)\n",
    "    \n",
    "    # If no file is found, return None or raise an exception\n",
    "    return None\n",
    "\n",
    "# The files to be mapped are expected to have the below defined suffixes\n",
    "def copy_image_channel(source_dir_path, dest_root_dir_path, channel_type):\n",
    "    # Define mapping for channel types\n",
    "    channel_map = {\n",
    "        \"DIC\": \"_ch02.tif\",\n",
    "        \"561\": \"_ch01.tif\",\n",
    "        \"488\": \"_ch00.tif\"\n",
    "    }\n",
    "\n",
    "    # Create the destination directory\n",
    "    source_dir_name = os.path.basename(source_dir_path)\n",
    "    destination_dir_path = os.path.join(dest_root_dir_path, f\"channel_split/{channel_type}/{source_dir_name}\")\n",
    "    os.makedirs(destination_dir_path, exist_ok=True)\n",
    "\n",
    "\n",
    "    # Get the source file path\n",
    "    channel_suffix = channel_map[channel_type]\n",
    "    source_file_path = get_file(source_dir_path, channel_suffix)\n",
    "    if source_file_path is None:\n",
    "        print(f\"ERROR: {channel_suffix} not found {source_dir_path}\")\n",
    "    else:\n",
    "        # Get the destination file path\n",
    "        source_file_name = os.path.basename(source_file_path)\n",
    "        dest_file_name = source_file_name.replace(channel_suffix, f\"_{channel_type}.tif\")\n",
    "        dest_file_path = os.path.join(destination_dir_path, dest_file_name)\n",
    "        \n",
    "        \n",
    "        # Copy the file to the new location\n",
    "        shutil.copy2(source_file_path, dest_file_path)\n",
    "        #print(f\"Copied {source_file_path} to {dest_file_path}\")\n",
    "\n"
   ]
  },
  {
   "cell_type": "code",
   "execution_count": 7,
   "metadata": {},
   "outputs": [
    {
     "name": "stdout",
     "output_type": "stream",
     "text": [
      "['061818.lif_ev007', '061818.lif_ev009', '061818.lif_mdst15007', '061818.lif_sams3007', '061818.lif_daf2008', '061818.lif_sbp1010', '061818.lif_ev_ch010', '061818.lif_mdt15_ch004', '061818.lif_daf16010', '061818.lif_ev001', '061818.lif_sams3006', '061818.lif_sams3008', '061818.lif_mdst15001', '061818.lif_arf1.2_ch012', '061818.lif_sams5010', '061818.lif_sams1005', '061818.lif_sams5004', '061818.lif_pcyt1_ch008', '061818.lif_arf1.2_ch006', '061818.lif_pcyt1_ch006', '061818.lif_sams5002', '061818.lif_sams1003', '061818.lif_nhr49006', '061818.lif_nhr49008', '061818.lif_pcyt1008', '061818.lif_arf1.2006', '061818.lif_pcyt1006', '061818.lif_arf1.2008', '061818.lif_sbp1004', '061818.lif_sams_ch002', '061818.lif_sbp1_ch008', '061818.lif_ev_ch004', '061818.lif_daf2012', '061818.lif_mdt15_ch010', '061818.lif_sbp1_ch006', '061818.lif_daf16004', '061818.lif_sams3013', '061818.lif_ev_ch002', '061818.lif_sbp1002', '061818.lif_sams_ch004', '061818.lif_pcyt1010', '061818.lif_mdst15003', '061818.lif_sams3004', '061818.lif_sams3003', '061818.lif_arf1.2010', '061818.lif_mdt15_ch006', '061818.lif_daf16012', '061818.lif_ev003', '061818.lif_mdt15_ch001', '061818.lif_sbp1_ch010', '061818.lif_mdt15_ch008', '061818.lif_sams3002', '061818.lif_sams3005', '061818.lif_mdst15005', '061818.lif_daf2002', '061818.lif_ev005', '061818.lif_daf2005', '061818.lif_arf1.2_ch010', '061818.lif_pcyt1_ch010', '061818.lif_nhr49010', '061818.lif_arf1.2_ch002', '061818.lif_pcyt1_ch002', '061818.lif_nhr49004', '061818.lif_sams1001', '061818.lif_arf1.2_ch004', '061818.lif_pcyt1_ch004', '061818.lif_nhr49002', '061818.lif_sams1009', '061818.lif_sams5006', '061818.lif_sams5008', '061818.lif_sams1007', '061818.lif_sams_ch006', '061818.lif_sams_ch008', '061818.lif_sbp1_ch002', '061818.lif_arf1.2002', '061818.lif_sams3011', '061818.lif_pcyt1002', '061818.lif_ev_ch006', '061818.lif_daf2010', '061818.lif_sbp1008', '061818.lif_daf16006', '061818.lif_sbp1_ch004', '061818.lif_sbp1006', '061818.lif_ev_ch008', '061818.lif_daf16008', '061818.lif_pcyt1004', '061818.lif_mdst15010', '061818.lif_sams3010', '061818.lif_arf1.2004']\n"
     ]
    }
   ],
   "source": [
    "import os\n",
    "\n",
    "def copy_experimental_conditions(experiment_root_dir_path: str, rotatoRIO_dir_path: str):\n",
    "    # Get list of directories under experiment_root_dir_path\n",
    "    experiment_dirs_path = [d for d in os.listdir(experiment_root_dir_path) if os.path.isdir(os.path.join(experiment_root_dir_path, d))]\n",
    "    # Loop over each directory (experiment) and create corresponding directories in rotatoRIO_dir\n",
    "    print(experiment_dirs_path)\n",
    "    for exper_dir in experiment_dirs_path:\n",
    "        for channel_type in ['488','561','DIC']:\n",
    "            source_dir_path = os.path.join(experiment_root_dir_path, exper_dir)\n",
    "            copy_image_channel(source_dir_path, rotatoRIO_dir_path, channel_type)\n",
    "\n",
    "# Note: The rotatoRIO_dir_path is defined above\n",
    "experiment_root_dir_path = \"/Users/dan/Downloads/061818tiffs\"\n",
    "copy_experimental_conditions(experiment_root_dir_path, rotatoRIO_dir_path)"
   ]
  },
  {
   "cell_type": "code",
   "execution_count": null,
   "metadata": {},
   "outputs": [],
   "source": []
  },
  {
   "cell_type": "code",
   "execution_count": null,
   "metadata": {},
   "outputs": [],
   "source": []
  }
 ],
 "metadata": {
  "kernelspec": {
   "display_name": "dan-dev",
   "language": "python",
   "name": "python3"
  },
  "language_info": {
   "codemirror_mode": {
    "name": "ipython",
    "version": 3
   },
   "file_extension": ".py",
   "mimetype": "text/x-python",
   "name": "python",
   "nbconvert_exporter": "python",
   "pygments_lexer": "ipython3",
   "version": "3.10.13"
  }
 },
 "nbformat": 4,
 "nbformat_minor": 2
}
